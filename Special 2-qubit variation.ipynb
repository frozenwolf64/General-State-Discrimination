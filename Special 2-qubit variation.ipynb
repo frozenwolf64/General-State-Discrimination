{
 "cells": [
  {
   "cell_type": "markdown",
   "id": "09762fc8-1d05-4568-ab25-fd87d3286338",
   "metadata": {},
   "source": [
    "## Variation for 2-qubit case\n",
    "\n",
    "Here we explore a different variation of the idea in the General_State_Discrimination notebook. Instead of mapping to the classifier qubits we apply a universal 2-qubit unitary and map it directly on the input qubits instead of seperate classifier qubits. This method in general can be extended for higher qubit cases as well. The main advantage is the significant decrease in number of free parameters (7, instead of 33) as compared to the other case."
   ]
  },
  {
   "cell_type": "code",
   "execution_count": null,
   "id": "85322442-f6be-427c-9999-31e399a19dff",
   "metadata": {},
   "outputs": [],
   "source": [
    "from qiskit import QuantumCircuit,QuantumRegister,ClassicalRegister\n",
    "import numpy as np\n",
    "from qiskit.circuit import ParameterVector\n",
    "from qiskit import Aer\n",
    "from qiskit.compiler import transpile"
   ]
  },
  {
   "cell_type": "markdown",
   "id": "2e4c4061-e7db-42a8-8168-3dac2dc8fdb2",
   "metadata": {},
   "source": [
    "Below we create a universal 2-qubit unitary with 7 free parameters. The states 00,01 correspond to 1st family of staes, 10 to 2nd family of states and 11 is interpreted as an inconclusive signal, same as before."
   ]
  },
  {
   "cell_type": "code",
   "execution_count": 17,
   "id": "586f9efd-5b4f-4eb7-b42e-f7830811a1d3",
   "metadata": {},
   "outputs": [],
   "source": [
    "from qiskit.circuit import ControlledGate\n",
    "from qiskit.circuit.library import RYGate\n",
    "\n",
    "def classifier_circuit():\n",
    "    ## Initializing the circuit\n",
    "    input_qubit = QuantumRegister(2)\n",
    "    classifier_cbit = ClassicalRegister(2)\n",
    "    qc = QuantumCircuit(input_qubit,classifier_cbit)\n",
    "    \n",
    "    ## All parametrized gates\n",
    "    U1 = ParameterVector(\"U1\",7)\n",
    "    \n",
    "    ## First gate: Arbitrary two qubit unitary\n",
    "    qc.rz(U1[0],input_qubit[0])\n",
    "    qc.rz(U1[1],input_qubit[1])\n",
    "    qc.cx(input_qubit[1],input_qubit[0])\n",
    "    qc.rz(U1[2],input_qubit[0])\n",
    "    qc.ry(U1[3],input_qubit[1])\n",
    "    qc.cx(input_qubit[0],input_qubit[1])\n",
    "    qc.ry(U1[4],input_qubit[1])\n",
    "    qc.cx(input_qubit[1],input_qubit[0])\n",
    "    qc.rz(U1[5],input_qubit[0])\n",
    "    qc.rz(U1[6],input_qubit[1])\n",
    "    qc.barrier()\n",
    "\n",
    "\n",
    "    backend = Aer.get_backend('aer_simulator')\n",
    "    qc1 = transpile(qc,backend = backend)\n",
    "    \n",
    "    return qc1, [U1] "
   ]
  },
  {
   "cell_type": "markdown",
   "id": "78deeef0-bfe1-410a-886c-560dd1f99e54",
   "metadata": {},
   "source": [
    "Here we classify between these two family of states (one is pure, other is a mixed state):\n",
    "\n",
    "1. $\\psi_1 = a|00\\rangle + \\sqrt{1-a^2}|01\\rangle$\n",
    "\n",
    "2. $\\rho_2 = \\frac{1}{2}(|\\psi_2^+\\rangle\\langle \\psi_2^+| +|\\psi_2^-\\rangle\\langle \\psi_2^-|),\\text{ where, }\\psi_2 = b|01\\rangle \\pm \\sqrt{1-b^2}|10\\rangle$\n",
    "\n",
    "Below function creates the states based on the label and corresponding parameter value"
   ]
  },
  {
   "cell_type": "code",
   "execution_count": 18,
   "id": "fc271d42-2e26-479c-9007-987c014007a2",
   "metadata": {},
   "outputs": [],
   "source": [
    "def input_circ(label,var):\n",
    "    qc = QuantumCircuit(2)\n",
    "    theta = 2 * np.arccos(var)   \n",
    "    \n",
    "    if label == 0 or label == 1:\n",
    "        qc.rx(theta,1)\n",
    "        \n",
    "    elif label == 2:\n",
    "        sign = np.random.choice([1,-1])\n",
    "        qc.rx(sign * theta,1)\n",
    "        qc.cx(1,0)\n",
    "        qc.x(0)\n",
    "        \n",
    "    return qc  "
   ]
  },
  {
   "cell_type": "code",
   "execution_count": 19,
   "id": "9b0bbe33-14fe-4357-a4eb-0116c612efe6",
   "metadata": {},
   "outputs": [],
   "source": [
    "## This cell contains functions for running the circuit and measuring loss \n",
    "## functions for each iteration\n",
    "\n",
    "def qnn(qc,parameter_obs,parameter_vals,shots = 2048):\n",
    "    \n",
    "    \"\"\"Returns counts from circuit based on input state and classifier circuit\"\"\"\n",
    "    parameters = []\n",
    "    p1 = 0\n",
    "    p2 = 0\n",
    "    for ind in range(len(parameter_obs)):\n",
    "        p1 = p2\n",
    "        p2 = p2 + len(parameter_obs[ind])\n",
    "        parameters.append(parameter_vals[p1:p2])\n",
    "        \n",
    "    all_params = {}\n",
    "    for i in range(len(parameter_obs)):\n",
    "        all_params[parameter_obs[i]] = parameters[i]\n",
    "    \n",
    "    qc1 = qc.bind_parameters(all_params)\n",
    "    \n",
    "    qregist = qc1.qregs[0][:2]\n",
    "    cregist = qc1.cregs[0]\n",
    "\n",
    "    qc1.measure(qregist,cregist)\n",
    "    \n",
    "    backend = Aer.get_backend(\"aer_simulator\")\n",
    "    counts = backend.run(qc1,shots = shots).result().get_counts()\n",
    "    \n",
    "    return counts\n",
    "    \n",
    "def compute_loss_each(counts,y,alp_err,alp_inc,shots):\n",
    "    \n",
    "    \"\"\"Returns the value of loss function for each data point in training data\"\"\"\n",
    "    P_suc = 0\n",
    "    P_err = 0\n",
    "    P_inc = 0\n",
    "    \n",
    "    for states in counts:\n",
    "        if (int(states,2) == 0 or int(states,2) == 1) and (y==0 or y==1) :\n",
    "            P_suc += counts[states]/shots\n",
    "        \n",
    "        elif int(states,2) == 2 and y == 2:\n",
    "            P_suc += counts[states]/shots\n",
    "            \n",
    "        elif int(states,2) == 3:\n",
    "            P_inc += counts[states]/shots\n",
    "        \n",
    "        else:\n",
    "            P_err += counts[states]/shots\n",
    "    \n",
    "    return [(1 - P_suc) +  alp_err * P_err + alp_inc * P_inc, P_suc,P_err,P_inc]\n",
    "\n",
    "\n",
    "def compute_loss(parameter_vals, X, y,classifier_circ,parameter_obs,alp_err,alp_inc,shots = 2048):\n",
    "    \n",
    "    \n",
    "    \"\"\"Returns average loss function over the entire training dataset.\n",
    "    Also prints the associated values of training for every 20 iterations till convergence\"\"\"\n",
    "    \n",
    "    global P\n",
    "    P += 1\n",
    "\n",
    "    each_loss = 0\n",
    "    each_suc = 0\n",
    "    each_err = 0\n",
    "    each_inc = 0\n",
    "    \n",
    "    \n",
    "    for ind in range(len(y)):\n",
    "        total_circ = QuantumCircuit(2,2)\n",
    "        input_qc = input_circ(y[ind],X[ind])\n",
    "        \n",
    "        total_circ.append(input_qc,[0,1])\n",
    "                \n",
    "        total_circ.append(classifier_circ,range(2),range(2))\n",
    "        backend = Aer.get_backend(\"aer_simulator\")\n",
    "        qc1 = transpile(total_circ, backend=backend)\n",
    "        \n",
    "        counts = qnn(qc1,parameter_obs,parameter_vals,shots)\n",
    "        loss_info = compute_loss_each(counts,y[ind],alp_err,alp_inc,shots)\n",
    "        \n",
    "        each_loss += loss_info[0]\n",
    "        each_suc += loss_info[1]\n",
    "        each_err += loss_info[2]\n",
    "        each_inc += loss_info[3]\n",
    "        \n",
    "    out = each_loss/len(y)\n",
    "    \n",
    "    succ = each_suc/len(y)\n",
    "    err = each_err/len(y)\n",
    "    inc = each_inc/len(y)\n",
    "    \n",
    "    if P%20 == 0:\n",
    "        print(f\"Iterations = {P}, Function value = {out : .4f}, Success = {succ: .4f}, Error = {err:.4f}, Inconc. = {inc: .4f}\")\n",
    "     \n",
    "    return out"
   ]
  },
  {
   "cell_type": "code",
   "execution_count": 20,
   "id": "c9d5dbbf-aa75-4ac3-b21c-8527090838d2",
   "metadata": {},
   "outputs": [],
   "source": [
    "## Function for testing success rate on test data\n",
    "\n",
    "def test_succ(X,y,parameter_vals):\n",
    "    \"\"\"Measures the success over test dataset.\n",
    "    Returns test success and inconclusive signal rate.\"\"\"\n",
    "    classifier,parameter_obs = classifier_circuit()\n",
    "    \n",
    "    succ = 0\n",
    "    inc = 0\n",
    "    \n",
    "    for i in range(len(y)):\n",
    "        input_circ_test = input_circ(y[i],X[i])\n",
    "        \n",
    "        total_circ = QuantumCircuit(2,2)\n",
    "        total_circ.append(input_circ_test,[0,1])\n",
    "                \n",
    "        total_circ.append(classifier,range(2),range(2))\n",
    "        backend = Aer.get_backend(\"aer_simulator\")\n",
    "        qc1 = transpile(total_circ, backend=backend)\n",
    "        \n",
    "        \n",
    "        counts = qnn(qc1,parameter_obs,parameter_vals,shots=1024)\n",
    "        \n",
    "        maxim = 0\n",
    "        \n",
    "        for states in counts:\n",
    "            if counts[states] > maxim:\n",
    "                maxim = counts[states]\n",
    "                maxim_state = states\n",
    "                \n",
    "        dec_maxim = int(maxim_state,2)\n",
    "        if y[i] == 0 or y[i] == 1:\n",
    "            if dec_maxim == 0 or dec_maxim == 1:\n",
    "                succ += 1\n",
    "        \n",
    "        elif y[i] == 2:\n",
    "            if dec_maxim == 2:\n",
    "                succ += 1\n",
    "        \n",
    "        if dec_maxim == 3:\n",
    "            inc += 1\n",
    "     \n",
    "    return succ/len(y),inc/len(y)\n",
    "        \n",
    "        "
   ]
  },
  {
   "cell_type": "markdown",
   "id": "f8c960d9-0baf-489d-8584-538db3f1d1ac",
   "metadata": {},
   "source": [
    "## $a\\in[0,1], b\\in[0,1]$"
   ]
  },
  {
   "cell_type": "code",
   "execution_count": null,
   "id": "0c5bcb46-dd2f-4ad5-ba3d-d45443d76f69",
   "metadata": {},
   "outputs": [],
   "source": [
    "## Functions to create dataset based on the above distribution\n",
    "def create_data(data_size):\n",
    "    data_val = []\n",
    "    data_label = []\n",
    "    \n",
    "    for _ in range(data_size):\n",
    "        data_label.append(np.random.choice([0,1,2],p = [0.25,0.25,0.5]))\n",
    "        data_val.append(np.random.uniform(0,1))\n",
    "        \n",
    "    return data_val, data_label"
   ]
  },
  {
   "cell_type": "markdown",
   "id": "76a79a19-8c78-4b21-8a79-0e4d50eee500",
   "metadata": {},
   "source": [
    "### Trial values $\\alpha_{err} = 0.2, \\alpha_{inc} = 0.1$"
   ]
  },
  {
   "cell_type": "code",
   "execution_count": 41,
   "id": "2e8a8b34-2b72-466c-8c86-81a5441bbbf1",
   "metadata": {},
   "outputs": [
    {
     "name": "stdout",
     "output_type": "stream",
     "text": [
      "Iterations = 20, Function value =  0.7001, Success =  0.3331, Error = 0.1654, Inconc. =  0.0014\n",
      "Iterations = 40, Function value =  0.7006, Success =  0.3328, Error = 0.1666, Inconc. =  0.0006\n",
      "Iterations = 60, Function value =  0.7013, Success =  0.3322, Error = 0.1671, Inconc. =  0.0006\n"
     ]
    }
   ],
   "source": [
    "from scipy.optimize import minimize\n",
    "\n",
    "X,y = create_data(300)\n",
    "alp_err,alp_inc = 0.2,0.1\n",
    "\n",
    "P = 0\n",
    "\n",
    "init_guess = np.random.uniform(low = 0, high = 2*np.pi,size = 7)\n",
    "classifier_circ,parameter_obs = classifier_circuit()\n",
    "res_qnn = minimize(compute_loss,init_guess,method = 'COBYLA',args = (X, y,classifier_circ,parameter_obs,alp_err,alp_inc))\n"
   ]
  },
  {
   "cell_type": "code",
   "execution_count": 43,
   "id": "3c38be77-07f3-4fc0-8195-13629cf19acb",
   "metadata": {},
   "outputs": [
    {
     "data": {
      "text/plain": [
       "(0.6133333333333333, 0.0)"
      ]
     },
     "execution_count": 43,
     "metadata": {},
     "output_type": "execute_result"
    }
   ],
   "source": [
    "X_test,y_test = create_data(600)\n",
    "\n",
    "test_succ(X_test,y_test,res_qnn.x)"
   ]
  },
  {
   "cell_type": "markdown",
   "id": "6966c6f5-0ef5-4794-8806-409e9766dbfa",
   "metadata": {},
   "source": [
    "### $\\alpha_{err} = 20, \\alpha_{inc} = 10$"
   ]
  },
  {
   "cell_type": "code",
   "execution_count": 46,
   "id": "4a2f48a7-535a-44da-965d-a0fa55737483",
   "metadata": {},
   "outputs": [
    {
     "name": "stdout",
     "output_type": "stream",
     "text": [
      "Iterations = 20, Function value =  6.9306, Success =  0.6672, Error = 0.3270, Inconc. =  0.0058\n",
      "Iterations = 40, Function value =  6.8473, Success =  0.6739, Error = 0.3260, Inconc. =  0.0001\n",
      "Iterations = 60, Function value =  6.8557, Success =  0.6735, Error = 0.3264, Inconc. =  0.0000\n",
      "Iterations = 80, Function value =  6.8439, Success =  0.6741, Error = 0.3259, Inconc. =  0.0000\n"
     ]
    }
   ],
   "source": [
    "X,y = create_data(300)\n",
    "alp_err,alp_inc = 20,10\n",
    "\n",
    "P = 0\n",
    "\n",
    "init_guess = np.random.uniform(low = 0, high = 2*np.pi,size = 7)\n",
    "classifier_circ,parameter_obs = classifier_circuit()\n",
    "res_qnn = minimize(compute_loss,init_guess,method = 'COBYLA',args = (X, y,classifier_circ,parameter_obs,alp_err,alp_inc))\n"
   ]
  },
  {
   "cell_type": "code",
   "execution_count": 48,
   "id": "e71fed79-e12d-4bf3-94a8-de4523ca169e",
   "metadata": {},
   "outputs": [
    {
     "data": {
      "text/plain": [
       "(0.65, 0.0)"
      ]
     },
     "execution_count": 48,
     "metadata": {},
     "output_type": "execute_result"
    }
   ],
   "source": [
    "X_test,y_test = create_data(600)\n",
    "\n",
    "test_succ(X_test,y_test,res_qnn.x)"
   ]
  },
  {
   "cell_type": "markdown",
   "id": "c340d02d-200a-4827-8d39-53cb4107083f",
   "metadata": {},
   "source": [
    "## $\\alpha_{err} = 20, \\alpha_{inc} = 2$"
   ]
  },
  {
   "cell_type": "code",
   "execution_count": 49,
   "id": "2da57a9a-436c-403e-9d10-e604c82f6cdd",
   "metadata": {},
   "outputs": [
    {
     "name": "stdout",
     "output_type": "stream",
     "text": [
      "Iterations = 20, Function value =  6.3468, Success =  0.6851, Error = 0.3001, Inconc. =  0.0148\n",
      "Iterations = 40, Function value =  6.3174, Success =  0.6851, Error = 0.2985, Inconc. =  0.0164\n",
      "Iterations = 60, Function value =  6.3269, Success =  0.6847, Error = 0.2989, Inconc. =  0.0164\n"
     ]
    }
   ],
   "source": [
    "X,y = create_data(300)\n",
    "\n",
    "alp_err,alp_inc = 20,2\n",
    "P = 0\n",
    "\n",
    "init_guess = np.random.uniform(low = 0, high = 2*np.pi,size = 7)\n",
    "classifier_circ,parameter_obs = classifier_circuit()\n",
    "res_qnn = minimize(compute_loss,init_guess,method = 'COBYLA',args = (X, y,classifier_circ,parameter_obs,alp_err,alp_inc))\n"
   ]
  },
  {
   "cell_type": "code",
   "execution_count": 50,
   "id": "6120be81-4e4b-417c-a728-bbbe2601c0e6",
   "metadata": {},
   "outputs": [
    {
     "data": {
      "text/plain": [
       "(0.656, 0.0)"
      ]
     },
     "execution_count": 50,
     "metadata": {},
     "output_type": "execute_result"
    }
   ],
   "source": [
    "X_test,y_test = create_data(1000)\n",
    "\n",
    "test_succ(X_test,y_test,res_qnn.x)"
   ]
  },
  {
   "cell_type": "markdown",
   "id": "03309082-9b25-47bf-9a7e-103fe8e848a1",
   "metadata": {},
   "source": [
    "Decreasing $\\alpha_{inc}$ increases the accuracy and increases inconclusive rate on training data as expected. The change however is not as dramatic as expected from the paper."
   ]
  },
  {
   "cell_type": "markdown",
   "id": "2fba8bb1-d3bb-4e55-acd7-5c59fff4dca8",
   "metadata": {},
   "source": [
    "## $a\\approx 0.25,b \\in [0,1]$"
   ]
  },
  {
   "cell_type": "code",
   "execution_count": 21,
   "id": "7207e90f-fa48-4e23-8a04-a2893eba3f4a",
   "metadata": {},
   "outputs": [],
   "source": [
    "## Functions to create dataset based on the above distribution\n",
    "def create_data(data_size):\n",
    "    data_val = []\n",
    "    data_label = []\n",
    "    \n",
    "    for _ in range(data_size):\n",
    "        data_label.append(np.random.choice([0,1,2],p = [0.25,0.25,0.5]))\n",
    "        if data_label[-1] == 0 or data_label[-1] == 1:\n",
    "            data_val.append(np.random.uniform(0.249,0.251))\n",
    "            \n",
    "        elif data_label[-1] == 2:\n",
    "            data_val.append(np.random.uniform(0,1))\n",
    "    return data_val, data_label"
   ]
  },
  {
   "cell_type": "code",
   "execution_count": 22,
   "id": "43d38018-38d1-4206-998e-721bf75143f6",
   "metadata": {},
   "outputs": [],
   "source": [
    "X,y = create_data(300)\n",
    "X_test,y_test = create_data(1000)"
   ]
  },
  {
   "cell_type": "markdown",
   "id": "01c922e1-8310-4328-a018-2938d1cd0d12",
   "metadata": {},
   "source": [
    "### $\\alpha_{err} = 20, \\alpha_{inc} = 10$"
   ]
  },
  {
   "cell_type": "code",
   "execution_count": 23,
   "id": "fda8b423-58b4-472f-9e9b-b9a5e8147ace",
   "metadata": {},
   "outputs": [
    {
     "name": "stdout",
     "output_type": "stream",
     "text": [
      "Iterations = 20, Function value =  6.9408, Success =  0.6557, Error = 0.3153, Inconc. =  0.0290\n",
      "Iterations = 40, Function value =  6.9410, Success =  0.6555, Error = 0.3152, Inconc. =  0.0293\n",
      "Iterations = 60, Function value =  6.9984, Success =  0.6529, Error = 0.3180, Inconc. =  0.0291\n"
     ]
    }
   ],
   "source": [
    "alp_err,alp_inc = 20,10\n",
    "P = 0\n",
    "\n",
    "init_guess = np.random.uniform(low = 0, high = 2*np.pi,size = 7)\n",
    "classifier_circ,parameter_obs = classifier_circuit()\n",
    "res_qnn = minimize(compute_loss,init_guess,method = 'COBYLA',args = (X, y,classifier_circ,parameter_obs,alp_err,alp_inc))"
   ]
  },
  {
   "cell_type": "code",
   "execution_count": 24,
   "id": "3be233a2-9bc3-46a0-8776-afc63fed4331",
   "metadata": {},
   "outputs": [
    {
     "data": {
      "text/plain": [
       "(0.626, 0.0)"
      ]
     },
     "execution_count": 24,
     "metadata": {},
     "output_type": "execute_result"
    }
   ],
   "source": [
    "test_succ(X_test,y_test,res_qnn.x)"
   ]
  },
  {
   "cell_type": "markdown",
   "id": "b4c1e9e7-f784-4468-82f0-885ac181ea59",
   "metadata": {},
   "source": [
    "### $\\alpha_{err} = 20, \\alpha_{inc} = 2$"
   ]
  },
  {
   "cell_type": "code",
   "execution_count": 67,
   "id": "93117778-a488-40be-91e0-1615deba42ef",
   "metadata": {},
   "outputs": [
    {
     "name": "stdout",
     "output_type": "stream",
     "text": [
      "Iterations = 20, Function value =  7.5562, Success =  0.6309, Error = 0.3583, Inconc. =  0.0108\n",
      "Iterations = 40, Function value =  7.2766, Success =  0.6412, Error = 0.3445, Inconc. =  0.0143\n",
      "Iterations = 60, Function value =  7.2783, Success =  0.6412, Error = 0.3446, Inconc. =  0.0142\n"
     ]
    }
   ],
   "source": [
    "alp_err,alp_inc = 20,2\n",
    "P = 0\n",
    "\n",
    "init_guess = np.random.uniform(low = 0, high = 2*np.pi,size = 7)\n",
    "classifier_circ,parameter_obs = classifier_circuit()\n",
    "res_qnn = minimize(compute_loss,init_guess,method = 'COBYLA',args = (X, y,classifier_circ,parameter_obs,alp_err,alp_inc))"
   ]
  },
  {
   "cell_type": "code",
   "execution_count": 68,
   "id": "39be3e83-d3be-41d2-8678-38e5a69bda63",
   "metadata": {},
   "outputs": [
    {
     "data": {
      "text/plain": [
       "(0.652, 0.0)"
      ]
     },
     "execution_count": 68,
     "metadata": {},
     "output_type": "execute_result"
    }
   ],
   "source": [
    "test_succ(X_test,y_test,res_qnn.x)"
   ]
  },
  {
   "cell_type": "markdown",
   "id": "df936208-f78d-4d6f-98bb-fad2d49ebd90",
   "metadata": {},
   "source": [
    "### $\\alpha_{err} = 40, \\alpha_{inc} = 2$"
   ]
  },
  {
   "cell_type": "code",
   "execution_count": 71,
   "id": "01207708-db3d-4954-ab4c-8d6cae61fd19",
   "metadata": {},
   "outputs": [
    {
     "name": "stdout",
     "output_type": "stream",
     "text": [
      "Iterations = 20, Function value =  14.3049, Success =  0.6240, Error = 0.3468, Inconc. =  0.0293\n",
      "Iterations = 40, Function value =  14.0108, Success =  0.6310, Error = 0.3396, Inconc. =  0.0294\n",
      "Iterations = 60, Function value =  14.3044, Success =  0.6237, Error = 0.3467, Inconc. =  0.0296\n"
     ]
    }
   ],
   "source": [
    "alp_err,alp_inc = 40,2\n",
    "P = 0\n",
    "\n",
    "init_guess = np.random.uniform(low = 0, high = 2*np.pi,size = 7)\n",
    "classifier_circ,parameter_obs = classifier_circuit()\n",
    "res_qnn = minimize(compute_loss,init_guess,method = 'COBYLA',args = (X, y,classifier_circ,parameter_obs,alp_err,alp_inc))"
   ]
  },
  {
   "cell_type": "code",
   "execution_count": 72,
   "id": "1d67b30f-4fd0-4cbe-b40a-6d210f9d1a4d",
   "metadata": {},
   "outputs": [
    {
     "data": {
      "text/plain": [
       "(0.654, 0.0)"
      ]
     },
     "execution_count": 72,
     "metadata": {},
     "output_type": "execute_result"
    }
   ],
   "source": [
    "test_succ(X_test,y_test,res_qnn.x)"
   ]
  },
  {
   "cell_type": "markdown",
   "id": "1687c604-4d55-4c3e-809b-d73441769fad",
   "metadata": {},
   "source": [
    "Decreasing $\\alpha_{inc}$ increases the accuracy and increases inconclusive rate on training data as expected. The change however is not as dramatic as expected from the paper."
   ]
  },
  {
   "cell_type": "markdown",
   "id": "d11b0fe4-974b-4347-a5e1-528d543bf2b5",
   "metadata": {},
   "source": [
    "## $a\\in [0,1], b\\approx \\frac{1}{\\sqrt{2}} $"
   ]
  },
  {
   "cell_type": "code",
   "execution_count": 7,
   "id": "00ca5767-f5ca-4e15-bc7c-35c9cc71a15b",
   "metadata": {},
   "outputs": [],
   "source": [
    "## Functions to create dataset based on the above distribution\n",
    "def create_data(data_size):\n",
    "    data_val = []\n",
    "    data_label = []\n",
    "    \n",
    "    for _ in range(data_size):\n",
    "        data_label.append(np.random.choice([0,1,2],p = [0.25,0.25,0.5]))\n",
    "        if data_label[-1] == 0 or data_label[-1] == 1:\n",
    "            data_val.append(np.random.uniform(0,1))\n",
    "            \n",
    "        elif data_label[-1] == 2:\n",
    "            data_val.append(np.random.uniform(1/np.sqrt(2)-0.001,1/np.sqrt(2)+0.001))\n",
    "    return data_val, data_label"
   ]
  },
  {
   "cell_type": "code",
   "execution_count": 8,
   "id": "c75b2752-ee43-45c0-be7e-8e83dbd2b508",
   "metadata": {},
   "outputs": [],
   "source": [
    "X,y = create_data(300)\n",
    "X_test,y_test = create_data(1000)"
   ]
  },
  {
   "cell_type": "markdown",
   "id": "2db19be4-126c-4af8-a041-b93d9b75f1bd",
   "metadata": {},
   "source": [
    "### $\\alpha_{err} = 20, \\alpha_{inc} = 10$"
   ]
  },
  {
   "cell_type": "code",
   "execution_count": 26,
   "id": "f6393f85-5234-45f0-ab9c-d7dabda71417",
   "metadata": {},
   "outputs": [
    {
     "name": "stdout",
     "output_type": "stream",
     "text": [
      "Iterations = 20, Function value =  6.6350, Success =  0.6838, Error = 0.3156, Inconc. =  0.0006\n",
      "Iterations = 40, Function value =  6.6484, Success =  0.6834, Error = 0.3165, Inconc. =  0.0001\n",
      "Iterations = 60, Function value =  6.6193, Success =  0.6847, Error = 0.3151, Inconc. =  0.0001\n"
     ]
    }
   ],
   "source": [
    "from scipy.optimize import minimize\n",
    "\n",
    "alp_err,alp_inc = 20,10\n",
    "P = 0\n",
    "\n",
    "init_guess = np.random.uniform(low = 0, high = 2*np.pi,size = 7)\n",
    "classifier_circ,parameter_obs = classifier_circuit()\n",
    "res_qnn = minimize(compute_loss,init_guess,method = 'COBYLA',args = (X, y,classifier_circ,parameter_obs,alp_err,alp_inc))"
   ]
  },
  {
   "cell_type": "code",
   "execution_count": 28,
   "id": "7fd2c78e-fed8-4d28-9827-7bfeadda213c",
   "metadata": {},
   "outputs": [
    {
     "data": {
      "text/plain": [
       "(0.62, 0.0)"
      ]
     },
     "execution_count": 28,
     "metadata": {},
     "output_type": "execute_result"
    }
   ],
   "source": [
    "test_succ(X_test,y_test,res_qnn.x)"
   ]
  },
  {
   "cell_type": "markdown",
   "id": "f92b2ff9-c636-475f-a051-1f4d7cef4e5d",
   "metadata": {},
   "source": [
    "### $\\alpha_{err} = 20, \\alpha_{inc} = 2$"
   ]
  },
  {
   "cell_type": "code",
   "execution_count": 12,
   "id": "4e75625d-7c1c-4354-943e-7c6c398bf463",
   "metadata": {},
   "outputs": [
    {
     "name": "stdout",
     "output_type": "stream",
     "text": [
      "Iterations = 20, Function value =  5.2189, Success =  0.6716, Error = 0.2352, Inconc. =  0.0932\n",
      "Iterations = 40, Function value =  5.1223, Success =  0.6798, Error = 0.2312, Inconc. =  0.0891\n",
      "Iterations = 60, Function value =  5.1458, Success =  0.6786, Error = 0.2323, Inconc. =  0.0891\n"
     ]
    }
   ],
   "source": [
    "alp_err,alp_inc = 20,2\n",
    "P = 0\n",
    "\n",
    "init_guess = np.random.uniform(low = 0, high = 2*np.pi,size = 7)\n",
    "classifier_circ,parameter_obs = classifier_circuit()\n",
    "res_qnn = minimize(compute_loss,init_guess,method = 'COBYLA',args = (X, y,classifier_circ,parameter_obs,alp_err,alp_inc))"
   ]
  },
  {
   "cell_type": "code",
   "execution_count": 13,
   "id": "5794cd16-5704-47d4-bda9-cc56b946a7b1",
   "metadata": {},
   "outputs": [
    {
     "data": {
      "text/plain": [
       "(0.773, 0.003)"
      ]
     },
     "execution_count": 13,
     "metadata": {},
     "output_type": "execute_result"
    }
   ],
   "source": [
    "test_succ(X_test,y_test,res_qnn.x)"
   ]
  },
  {
   "cell_type": "markdown",
   "id": "c2cdc972-eb90-436a-aa8b-b2b08f3d2807",
   "metadata": {},
   "source": [
    "### $\\alpha_{err} = 40, \\alpha_{inc} = 2$"
   ]
  },
  {
   "cell_type": "code",
   "execution_count": 14,
   "id": "97f94c49-4e53-4a62-98c7-be9e55f505c9",
   "metadata": {},
   "outputs": [
    {
     "name": "stdout",
     "output_type": "stream",
     "text": [
      "Iterations = 20, Function value =  9.8725, Success =  0.7443, Error = 0.2396, Inconc. =  0.0161\n",
      "Iterations = 40, Function value =  9.8584, Success =  0.7474, Error = 0.2395, Inconc. =  0.0131\n",
      "Iterations = 60, Function value =  9.9600, Success =  0.7449, Error = 0.2420, Inconc. =  0.0131\n"
     ]
    }
   ],
   "source": [
    "alp_err,alp_inc = 40,2\n",
    "P = 0\n",
    "\n",
    "init_guess = np.random.uniform(low = 0, high = 2*np.pi,size = 7)\n",
    "classifier_circ,parameter_obs = classifier_circuit()\n",
    "res_qnn = minimize(compute_loss,init_guess,method = 'COBYLA',args = (X, y,classifier_circ,parameter_obs,alp_err,alp_inc))"
   ]
  },
  {
   "cell_type": "code",
   "execution_count": 15,
   "id": "9aafc110-02d5-4c1d-b4da-2bf48f82f5a5",
   "metadata": {},
   "outputs": [
    {
     "data": {
      "text/plain": [
       "(0.762, 0.0)"
      ]
     },
     "execution_count": 15,
     "metadata": {},
     "output_type": "execute_result"
    }
   ],
   "source": [
    "test_succ(X_test,y_test,res_qnn.x)"
   ]
  },
  {
   "cell_type": "markdown",
   "id": "cfb0ff31-13e9-4dfc-b46b-179d64f2a18c",
   "metadata": {},
   "source": [
    "Decreasing $\\alpha_{inc}$ increases the accuracy and increases inconclusive rate on training data as expected. The change however is not as dramatic as expected from the paper."
   ]
  },
  {
   "cell_type": "markdown",
   "id": "de50d271-dcda-410e-8fc5-12edd638fd38",
   "metadata": {},
   "source": [
    "### Conclusion\n",
    "\n",
    "We notice a very similar accuracy in both the circuit mentioned in the paper and the variation explored here. This demonstrates that the classification capability is very similar at significantly lower number of free parameters. This method should be preffered when discriminating between states, when the measurement does not need to preserve the state"
   ]
  }
 ],
 "metadata": {
  "kernelspec": {
   "display_name": "qosf-env",
   "language": "python",
   "name": "qosf_env"
  },
  "language_info": {
   "codemirror_mode": {
    "name": "ipython",
    "version": 3
   },
   "file_extension": ".py",
   "mimetype": "text/x-python",
   "name": "python",
   "nbconvert_exporter": "python",
   "pygments_lexer": "ipython3",
   "version": "3.9.16"
  }
 },
 "nbformat": 4,
 "nbformat_minor": 5
}
