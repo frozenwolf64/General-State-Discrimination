{
 "cells": [
  {
   "cell_type": "markdown",
   "id": "51b98c1d-fc62-4393-995d-9b5aac5e1a8b",
   "metadata": {},
   "source": [
    "## General State Discrimination (based on [Chen et. al.](https://arxiv.org/abs/1805.08654))\n",
    "\n",
    "Below we describe a scheme based on this [paper](https://arxiv.org/abs/1805.08654), used for discriminating between multiple family of states at accuracies comparable to the theoretically possible threshold when allowed error is minimized. The paper also claims when allowing slightly higher error, success accuracy is increased significantly at the cost of higher number of inconclusive signals. We notice a similar pattern in the examples below, although not as dramatic as claimed in the paper."
   ]
  },
  {
   "cell_type": "code",
   "execution_count": null,
   "id": "434c25c9-f152-45c3-80e0-52233d9d2cc4",
   "metadata": {},
   "outputs": [],
   "source": [
    "from qiskit import QuantumCircuit,QuantumRegister,ClassicalRegister\n",
    "import numpy as np\n",
    "from qiskit.circuit import ParameterVector\n",
    "from qiskit import Aer\n",
    "from qiskit.compiler import transpile"
   ]
  },
  {
   "cell_type": "markdown",
   "id": "31ef0bd6-5fc8-4fb3-8422-87eab650ce46",
   "metadata": {},
   "source": [
    "Below we create a general circuit using a total of 33 free parameters, allowing universal mapping from a 2 qubit state to two classifier qubits. The states 00,01 correspond to 1st family of staes, 10 to 2nd family of states and 11 is interpreted as an inconclusive signal."
   ]
  },
  {
   "cell_type": "code",
   "execution_count": 25,
   "id": "586f9efd-5b4f-4eb7-b42e-f7830811a1d3",
   "metadata": {},
   "outputs": [],
   "source": [
    "from qiskit.circuit import ControlledGate\n",
    "from qiskit.circuit.library import RYGate\n",
    "\n",
    "\n",
    "## Main Classifer Circuit\n",
    "def classifier_circuit():\n",
    "    ## Initializing the circuit\n",
    "    classifier_qubit = QuantumRegister(2)\n",
    "    input_qubit = QuantumRegister(2)\n",
    "    classifier_cbit = ClassicalRegister(2)\n",
    "    qc = QuantumCircuit(classifier_qubit,input_qubit,classifier_cbit)\n",
    "    \n",
    "    ## All parametrized gates\n",
    "    U1 = ParameterVector(\"U1\",7)\n",
    "    Ry1 = ParameterVector(\"Ry1\",4)\n",
    "    U2 = ParameterVector(\"U2\",14)\n",
    "    Ry2 = ParameterVector(\"Ry2\",8)\n",
    "    \n",
    "    ## First gate: Arbitrary two qubit unitary\n",
    "    qc.rz(U1[0],input_qubit[0])\n",
    "    qc.rz(U1[1],input_qubit[1])\n",
    "    qc.cx(input_qubit[1],input_qubit[0])\n",
    "    qc.rz(U1[2],input_qubit[0])\n",
    "    qc.ry(U1[3],input_qubit[1])\n",
    "    qc.cx(input_qubit[0],input_qubit[1])\n",
    "    qc.ry(U1[4],input_qubit[1])\n",
    "    qc.cx(input_qubit[1],input_qubit[0])\n",
    "    qc.rz(U1[5],input_qubit[0])\n",
    "    qc.rz(U1[6],input_qubit[1])\n",
    "    qc.barrier()\n",
    "    \n",
    "    \n",
    "    ## Second gate: Two qubit controlled Ry rotation\n",
    "    for i in range(4):\n",
    "        bin_i = bin(i)[2:].zfill(2)\n",
    "\n",
    "        rry = RYGate(Ry1[i])\n",
    "        ccry = ControlledGate(name=\"mcry\", num_qubits=3, params=rry.params, num_ctrl_qubits=2, definition=rry.definition,ctrl_state=bin_i, base_gate=rry) \n",
    "\n",
    "        qc.append(ccry,[input_qubit[0],input_qubit[1], classifier_qubit[0]])\n",
    "        \n",
    "\n",
    "    qc.barrier()\n",
    "        \n",
    "    ## Third gate: Controlled arbitrary two qubit unitary\n",
    "    controls_U2 = [classifier_qubit[0]]\n",
    "\n",
    "    for i in range(2):\n",
    "        bin_i = bin(i)[2:].zfill(1)\n",
    "\n",
    "        for ind,yes in enumerate(bin_i):\n",
    "            if yes == '1':\n",
    "                qc.x(controls_U2[ind])\n",
    "\n",
    "            qc.crz(U2[7*i + 0],classifier_qubit[0],input_qubit[0])\n",
    "            qc.crz(U2[7*i + 1],classifier_qubit[0],input_qubit[1])\n",
    "            qc.ccx(input_qubit[1],classifier_qubit[0],input_qubit[0])\n",
    "            qc.crz(U2[7*i + 2],classifier_qubit[0],input_qubit[0])\n",
    "            qc.cry(U2[7*i + 3],classifier_qubit[0],input_qubit[1])\n",
    "            qc.ccx(input_qubit[0],classifier_qubit[0],input_qubit[1])\n",
    "            qc.cry(U2[7*i + 4],classifier_qubit[0],input_qubit[1])\n",
    "            qc.ccx(input_qubit[1],classifier_qubit[0],input_qubit[0])\n",
    "            qc.crz(U2[7*i + 5],classifier_qubit[0],input_qubit[0])\n",
    "            qc.crz(U2[7*i + 6],classifier_qubit[0],input_qubit[1])\n",
    "\n",
    "        for ind,yes in enumerate(bin_i):\n",
    "            if yes == '1':\n",
    "                qc.x(controls_U2[ind])\n",
    "\n",
    "    qc.barrier()\n",
    "        \n",
    "    ## Fourth gate: Three qubit controlled Ry\n",
    "    for i in range(8):\n",
    "        bin_i = bin(i)[2:].zfill(3)\n",
    "\n",
    "        rry = RYGate(Ry2[i])\n",
    "        ccry = ControlledGate(name=\"mcry\", num_qubits=4, params=rry.params, num_ctrl_qubits=3, definition=rry.definition,ctrl_state=bin_i, base_gate=rry) \n",
    "\n",
    "        qc.append(ccry,[classifier_qubit[0],input_qubit[0],input_qubit[1], classifier_qubit[1]])\n",
    "\n",
    "    \n",
    "\n",
    "    backend = Aer.get_backend('aer_simulator')\n",
    "    qc1 = transpile(qc,backend = backend)\n",
    "    \n",
    "    return qc1, [U1,Ry1,U2,Ry2] "
   ]
  },
  {
   "cell_type": "markdown",
   "id": "785a8dcc-337f-4062-8ce5-022505c3fe81",
   "metadata": {},
   "source": [
    "Here we classify between these two family of states (one is pure, other is a mixed state):\n",
    "\n",
    "1. $\\psi_1 = a|00\\rangle + \\sqrt{1-a^2}|01\\rangle$\n",
    "\n",
    "2. $\\rho_2 = \\frac{1}{2}(|\\psi_2^+\\rangle\\langle \\psi_2^+| +|\\psi_2^-\\rangle\\langle \\psi_2^-|),\\text{ where, }\\psi_2 = b|01\\rangle \\pm \\sqrt{1-b^2}|10\\rangle$\n",
    "\n",
    "Below function creates the states based on the label and corresponding parameter value"
   ]
  },
  {
   "cell_type": "code",
   "execution_count": 26,
   "id": "fc271d42-2e26-479c-9007-987c014007a2",
   "metadata": {},
   "outputs": [],
   "source": [
    "## Creates input data\n",
    "def input_circ(label,var):\n",
    "    qc = QuantumCircuit(2)\n",
    "    theta = 2 * np.arccos(var)   \n",
    "    \n",
    "    if label == 0 or label == 1:\n",
    "        qc.rx(theta,1)\n",
    "        \n",
    "    elif label == 2:\n",
    "        sign = np.random.choice([1,-1])\n",
    "        qc.rx(sign * theta,1)\n",
    "        qc.cx(1,0)\n",
    "        qc.x(0)\n",
    "        \n",
    "    return qc  "
   ]
  },
  {
   "cell_type": "code",
   "execution_count": 27,
   "id": "9b0bbe33-14fe-4357-a4eb-0116c612efe6",
   "metadata": {},
   "outputs": [],
   "source": [
    "## This cell contains functions for running the circuit and measuring loss \n",
    "## functions for each iteration\n",
    "\n",
    "def qnn(qc,parameter_obs,parameter_vals,shots = 1024):\n",
    "    \n",
    "    \"\"\"Returns counts from circuit based on input state and classifier circuit\"\"\"\n",
    "    parameters = []\n",
    "    p1 = 0\n",
    "    p2 = 0\n",
    "    for ind in range(len(parameter_obs)):\n",
    "        p1 = p2\n",
    "        p2 = p2 + len(parameter_obs[ind])\n",
    "        parameters.append(parameter_vals[p1:p2])\n",
    "        \n",
    "    all_params = {}\n",
    "    for i in range(len(parameter_obs)):\n",
    "        all_params[parameter_obs[i]] = parameters[i]\n",
    "    \n",
    "    qc1 = qc.bind_parameters(all_params)\n",
    "    \n",
    "    qregist = qc1.qregs[0][:2]\n",
    "    cregist = qc1.cregs[0]\n",
    "\n",
    "    qc1.measure(qregist,cregist)\n",
    "    \n",
    "    backend = Aer.get_backend(\"aer_simulator\")\n",
    "    counts = backend.run(qc1,shots = shots).result().get_counts()\n",
    "    \n",
    "    return counts\n",
    "    \n",
    "    \n",
    "def compute_loss_each(counts,y,alp_err,alp_inc,shots):\n",
    "    \n",
    "    \"\"\"Returns the value of loss function for each data point in training data\"\"\"\n",
    "    P_suc = 0\n",
    "    P_err = 0\n",
    "    P_inc = 0\n",
    "    \n",
    "    for states in counts:\n",
    "        if (int(states,2) == 0 or int(states,2) == 1) and (y==0 or y==1) :\n",
    "            P_suc += counts[states]/shots\n",
    "        \n",
    "        elif int(states,2) == 2 and y == 2:\n",
    "            P_suc += counts[states]/shots\n",
    "            \n",
    "        elif int(states,2) == 3:\n",
    "            P_inc += counts[states]/shots\n",
    "        \n",
    "        else:\n",
    "            P_err += counts[states]/shots\n",
    "    \n",
    "    return [(1 - P_suc) +  alp_err * P_err + alp_inc * P_inc, P_suc,P_err,P_inc]\n",
    "\n",
    "\n",
    "def compute_loss(parameter_vals, X, y,classifier_circ,parameter_obs,alp_err,alp_inc,shots = 1024):\n",
    "    \n",
    "    \"\"\"Returns average loss function over the entire training dataset.\n",
    "    Also prints the associated values of training for every 30 iterations till convergence\"\"\"\n",
    "    \n",
    "    global P\n",
    "    P += 1\n",
    "  \n",
    "    each_loss = 0\n",
    "    each_suc = 0\n",
    "    each_err = 0\n",
    "    each_inc = 0\n",
    "    \n",
    "    \n",
    "    for ind in range(len(y)):\n",
    "        total_circ = QuantumCircuit(4,2)\n",
    "        input_qc = input_circ(y[ind],X[ind])\n",
    "        \n",
    "        total_circ.append(input_qc,[2,3])\n",
    "                \n",
    "        total_circ.append(classifier_circ,range(4),range(2))\n",
    "        backend = Aer.get_backend(\"aer_simulator\")\n",
    "        qc1 = transpile(total_circ, backend=backend)\n",
    "        \n",
    "        \n",
    "        counts = qnn(qc1,parameter_obs,parameter_vals,shots)\n",
    "        loss_info = compute_loss_each(counts,y[ind],alp_err,alp_inc,shots)\n",
    "        each_loss += loss_info[0]\n",
    "        each_suc += loss_info[1]\n",
    "        each_err += loss_info[2]\n",
    "        each_inc += loss_info[3]\n",
    "        \n",
    "    out = each_loss/len(y)\n",
    "    \n",
    "    succ = each_suc/len(y)\n",
    "    err = each_err/len(y)\n",
    "    inc = each_inc/len(y)\n",
    "    \n",
    "    if P%30 == 0:\n",
    "        print(f\"Iterations = {P}, Function value = {out : .4f}, Success = {succ: .4f}, Error = {err:.4f}, Inconc. = {inc: .4f}\")\n",
    "     \n",
    "    return out"
   ]
  },
  {
   "cell_type": "code",
   "execution_count": 28,
   "id": "c9d5dbbf-aa75-4ac3-b21c-8527090838d2",
   "metadata": {},
   "outputs": [],
   "source": [
    "## Function for testing success rate on test data\n",
    "\n",
    "def test_succ(X,y,parameter_vals):\n",
    "    \"\"\"Measures the success over test dataset.\n",
    "    Returns test success and inconclusive signal rate.\"\"\"\n",
    "    classifier,parameter_obs = classifier_circuit()\n",
    "    \n",
    "    succ = 0\n",
    "    inc = 0\n",
    "    \n",
    "    for i in range(len(y)):\n",
    "        input_circ_test = input_circ(y[i],X[i])\n",
    "        \n",
    "        total_circ = QuantumCircuit(4,2)\n",
    "        total_circ.append(input_circ_test,[2,3])\n",
    "                \n",
    "        total_circ.append(classifier,range(4),range(2))\n",
    "        backend = Aer.get_backend(\"aer_simulator\")\n",
    "        qc1 = transpile(total_circ, backend=backend)\n",
    "        \n",
    "        \n",
    "        counts = qnn(qc1,parameter_obs,parameter_vals,shots=1024)\n",
    "        \n",
    "        maxim = 0\n",
    "        \n",
    "        for states in counts:\n",
    "            if counts[states] > maxim:\n",
    "                maxim = counts[states]\n",
    "                maxim_state = states\n",
    "                \n",
    "        dec_maxim = int(maxim_state,2)\n",
    "        if y[i] == 0 or y[i] == 1:\n",
    "            if dec_maxim == 0 or dec_maxim == 1:\n",
    "                succ += 1\n",
    "        \n",
    "        elif y[i] == 2:\n",
    "            if dec_maxim == 2:\n",
    "                succ += 1\n",
    "        \n",
    "        if dec_maxim == 3:\n",
    "            inc += 1\n",
    "            \n",
    "       \n",
    "    return succ/len(y),inc/len(y)\n",
    "        \n",
    "        "
   ]
  },
  {
   "cell_type": "markdown",
   "id": "adfaf851-0cb6-4a58-b03b-3dff37973650",
   "metadata": {},
   "source": [
    "## $a\\in[0,1], b\\in [0,1]$"
   ]
  },
  {
   "cell_type": "code",
   "execution_count": null,
   "id": "8b3bab9f-7db9-4808-9d87-4c3431f4326f",
   "metadata": {},
   "outputs": [],
   "source": [
    "## Functions to create dataset based on the above distribution\n",
    "def create_data(data_size):\n",
    "    data_val = []\n",
    "    data_label = []\n",
    "    \n",
    "    for _ in range(data_size):\n",
    "        data_label.append(np.random.choice([0,1,2],p = [0.25,0.25,0.5]))\n",
    "        data_val.append(np.random.uniform(0,1))\n",
    "        \n",
    "    return data_val, data_label"
   ]
  },
  {
   "cell_type": "code",
   "execution_count": 8,
   "id": "b355f073-ef6f-411a-9abb-5a14ee55e9d2",
   "metadata": {},
   "outputs": [],
   "source": [
    "## Creating training and test dataset\n",
    "X,y = create_data(100)\n",
    "X_test,y_test = create_data(1000)"
   ]
  },
  {
   "cell_type": "markdown",
   "id": "17772627-afb8-44b1-a5aa-835e8173ca2c",
   "metadata": {},
   "source": [
    "### We change the $\\alpha_{err}, \\alpha_{inc}$ values to understand the change in accuracy/error values"
   ]
  },
  {
   "cell_type": "markdown",
   "id": "76a79a19-8c78-4b21-8a79-0e4d50eee500",
   "metadata": {},
   "source": [
    "### $\\alpha_{err} = 20, \\alpha_{inc} = 10$"
   ]
  },
  {
   "cell_type": "code",
   "execution_count": 9,
   "id": "2e8a8b34-2b72-466c-8c86-81a5441bbbf1",
   "metadata": {},
   "outputs": [
    {
     "name": "stdout",
     "output_type": "stream",
     "text": [
      "Iterations = 30, Function value =  10.0597, Success =  0.4614, Error = 0.4135, Inconc. =  0.1252\n",
      "Iterations = 60, Function value =  6.9974, Success =  0.5932, Error = 0.2522, Inconc. =  0.1546\n",
      "Iterations = 90, Function value =  6.3756, Success =  0.6266, Error = 0.2268, Inconc. =  0.1466\n",
      "Iterations = 120, Function value =  6.3862, Success =  0.6352, Error = 0.2373, Inconc. =  0.1275\n",
      "Iterations = 150, Function value =  6.4484, Success =  0.6277, Error = 0.2353, Inconc. =  0.1371\n",
      "Iterations = 180, Function value =  6.4901, Success =  0.6243, Error = 0.2357, Inconc. =  0.1400\n",
      "Iterations = 210, Function value =  6.3674, Success =  0.6313, Error = 0.2312, Inconc. =  0.1375\n",
      "Iterations = 240, Function value =  6.4612, Success =  0.6268, Error = 0.2356, Inconc. =  0.1375\n",
      "Iterations = 270, Function value =  6.3455, Success =  0.6323, Error = 0.2301, Inconc. =  0.1376\n",
      "Iterations = 300, Function value =  6.3911, Success =  0.6303, Error = 0.2325, Inconc. =  0.1372\n"
     ]
    }
   ],
   "source": [
    "from scipy.optimize import minimize\n",
    "\n",
    "alp_err,alp_inc = 20,10\n",
    "P = 0\n",
    "\n",
    "init_guess = np.random.uniform(low = 0, high = 2*np.pi,size = 33)\n",
    "classifier_circ,parameter_obs = classifier_circuit()\n",
    "res_qnn = minimize(compute_loss,init_guess,method = 'COBYLA',args = (X, y,classifier_circ,parameter_obs,alp_err,alp_inc))"
   ]
  },
  {
   "cell_type": "code",
   "execution_count": 10,
   "id": "3c38be77-07f3-4fc0-8195-13629cf19acb",
   "metadata": {},
   "outputs": [
    {
     "data": {
      "text/plain": [
       "(0.654, 0.0)"
      ]
     },
     "execution_count": 10,
     "metadata": {},
     "output_type": "execute_result"
    }
   ],
   "source": [
    "test_succ(X_test,y_test,res_qnn.x)"
   ]
  },
  {
   "cell_type": "markdown",
   "id": "c340d02d-200a-4827-8d39-53cb4107083f",
   "metadata": {},
   "source": [
    "### $\\alpha_{err} = 20, \\alpha_{inc} = 15$"
   ]
  },
  {
   "cell_type": "code",
   "execution_count": 13,
   "id": "2da57a9a-436c-403e-9d10-e604c82f6cdd",
   "metadata": {},
   "outputs": [
    {
     "name": "stdout",
     "output_type": "stream",
     "text": [
      "Iterations = 30, Function value =  4.8764, Success =  0.5049, Error = 0.3811, Inconc. =  0.1140\n",
      "Iterations = 60, Function value =  4.0497, Success =  0.5745, Error = 0.2994, Inconc. =  0.1261\n",
      "Iterations = 90, Function value =  3.9646, Success =  0.6075, Error = 0.3219, Inconc. =  0.0706\n",
      "Iterations = 120, Function value =  3.6301, Success =  0.6388, Error = 0.2926, Inconc. =  0.0685\n",
      "Iterations = 150, Function value =  3.7044, Success =  0.6316, Error = 0.2988, Inconc. =  0.0696\n",
      "Iterations = 180, Function value =  3.5815, Success =  0.6424, Error = 0.2872, Inconc. =  0.0704\n",
      "Iterations = 210, Function value =  3.7233, Success =  0.6296, Error = 0.3002, Inconc. =  0.0702\n",
      "Iterations = 240, Function value =  3.8838, Success =  0.6149, Error = 0.3146, Inconc. =  0.0705\n",
      "Iterations = 270, Function value =  3.6733, Success =  0.6337, Error = 0.2951, Inconc. =  0.0712\n",
      "Iterations = 300, Function value =  4.0433, Success =  0.6003, Error = 0.3290, Inconc. =  0.0707\n"
     ]
    }
   ],
   "source": [
    "alp_err,alp_inc = 20,15\n",
    "P = 0\n",
    "\n",
    "init_guess = np.random.uniform(low = 0, high = 2*np.pi,size = 33)\n",
    "classifier_circ,parameter_obs = classifier_circuit()\n",
    "res_qnn = minimize(compute_loss,init_guess,method = 'COBYLA',args = (X, y,classifier_circ,parameter_obs,alp_err,alp_inc))"
   ]
  },
  {
   "cell_type": "code",
   "execution_count": 14,
   "id": "6120be81-4e4b-417c-a728-bbbe2601c0e6",
   "metadata": {},
   "outputs": [
    {
     "data": {
      "text/plain": [
       "(0.654, 0.0)"
      ]
     },
     "execution_count": 14,
     "metadata": {},
     "output_type": "execute_result"
    }
   ],
   "source": [
    "test_succ(X_test,y_test,res_qnn.x)"
   ]
  },
  {
   "cell_type": "markdown",
   "id": "ca00a93f-b685-4301-81a3-530f43e18c45",
   "metadata": {},
   "source": [
    "Increasing $\\alpha_{inc}$ keeps the accuracy same, although inconclusive rate on training data decreases as expected."
   ]
  },
  {
   "cell_type": "markdown",
   "id": "2fba8bb1-d3bb-4e55-acd7-5c59fff4dca8",
   "metadata": {},
   "source": [
    "## $a\\in [0,1], b\\approx \\frac{1}{\\sqrt{2}} $"
   ]
  },
  {
   "cell_type": "code",
   "execution_count": 29,
   "id": "7207e90f-fa48-4e23-8a04-a2893eba3f4a",
   "metadata": {},
   "outputs": [],
   "source": [
    "## Functions to create dataset based on the above distribution\n",
    "def create_data(data_size):\n",
    "    data_val = []\n",
    "    data_label = []\n",
    "    \n",
    "    for _ in range(data_size):\n",
    "        data_label.append(np.random.choice([0,1,2],p = [0.25,0.25,0.5]))\n",
    "        if data_label[-1] == 0 or data_label[-1] == 1:\n",
    "            data_val.append(np.random.uniform(0,1))\n",
    "            \n",
    "        elif data_label[-1] == 2:\n",
    "            data_val.append(np.random.uniform(1/np.sqrt(2)-0.001,1/np.sqrt(2)+0.001))\n",
    "    return data_val, data_label"
   ]
  },
  {
   "cell_type": "code",
   "execution_count": 30,
   "id": "3727e2a4-21b7-4180-96ab-24f6618ab895",
   "metadata": {},
   "outputs": [],
   "source": [
    "## Creating training and test dataset\n",
    "X,y = create_data(100)\n",
    "X_test,y_test = create_data(1000)"
   ]
  },
  {
   "cell_type": "markdown",
   "id": "28d271ac-e1f6-4a36-83ec-83d7b1be6032",
   "metadata": {},
   "source": [
    "### $\\alpha_{err} = 20, \\alpha_{inc} = 10$"
   ]
  },
  {
   "cell_type": "code",
   "execution_count": 33,
   "id": "c8f49154-1c15-4926-a0b5-1a27d476f421",
   "metadata": {},
   "outputs": [
    {
     "name": "stdout",
     "output_type": "stream",
     "text": [
      "Iterations = 30, Function value =  8.0024, Success =  0.5200, Error = 0.2722, Inconc. =  0.2077\n",
      "Iterations = 60, Function value =  4.8527, Success =  0.7371, Error = 0.1960, Inconc. =  0.0669\n",
      "Iterations = 90, Function value =  5.2929, Success =  0.7133, Error = 0.2139, Inconc. =  0.0728\n",
      "Iterations = 120, Function value =  5.2970, Success =  0.7147, Error = 0.2159, Inconc. =  0.0694\n",
      "Iterations = 150, Function value =  5.1569, Success =  0.7223, Error = 0.2102, Inconc. =  0.0675\n",
      "Iterations = 180, Function value =  5.0744, Success =  0.7253, Error = 0.2053, Inconc. =  0.0693\n",
      "Iterations = 210, Function value =  5.1815, Success =  0.7212, Error = 0.2115, Inconc. =  0.0672\n",
      "Iterations = 240, Function value =  5.3478, Success =  0.7129, Error = 0.2189, Inconc. =  0.0682\n",
      "Iterations = 270, Function value =  5.4816, Success =  0.7056, Error = 0.2243, Inconc. =  0.0700\n"
     ]
    }
   ],
   "source": [
    "from scipy.optimize import minimize\n",
    "\n",
    "alp_err,alp_inc = 20,10\n",
    "P = 0\n",
    "\n",
    "init_guess = np.random.uniform(low = 0, high = 2*np.pi,size = 33)\n",
    "classifier_circ,parameter_obs = classifier_circuit()\n",
    "res_qnn = minimize(compute_loss,init_guess,method = 'COBYLA',args = (X, y,classifier_circ,parameter_obs,alp_err,alp_inc))"
   ]
  },
  {
   "cell_type": "code",
   "execution_count": 34,
   "id": "3be233a2-9bc3-46a0-8776-afc63fed4331",
   "metadata": {},
   "outputs": [
    {
     "data": {
      "text/plain": [
       "(0.751, 0.0)"
      ]
     },
     "execution_count": 34,
     "metadata": {},
     "output_type": "execute_result"
    }
   ],
   "source": [
    "test_succ(X_test,y_test,res_qnn.x)"
   ]
  },
  {
   "cell_type": "markdown",
   "id": "e0b2e6be-8e8e-482b-8caf-d6267a7cf551",
   "metadata": {},
   "source": [
    "### $\\alpha_{err} = 20, \\alpha_{inc} = 15$"
   ]
  },
  {
   "cell_type": "code",
   "execution_count": 31,
   "id": "93117778-a488-40be-91e0-1615deba42ef",
   "metadata": {},
   "outputs": [
    {
     "name": "stdout",
     "output_type": "stream",
     "text": [
      "Iterations = 30, Function value =  7.4010, Success =  0.6044, Error = 0.2144, Inconc. =  0.1812\n",
      "Iterations = 60, Function value =  5.8992, Success =  0.6987, Error = 0.2156, Inconc. =  0.0857\n",
      "Iterations = 90, Function value =  6.6225, Success =  0.6741, Error = 0.2816, Inconc. =  0.0443\n",
      "Iterations = 120, Function value =  6.3043, Success =  0.6880, Error = 0.2624, Inconc. =  0.0496\n",
      "Iterations = 150, Function value =  5.3828, Success =  0.7333, Error = 0.2231, Inconc. =  0.0436\n",
      "Iterations = 180, Function value =  6.0747, Success =  0.6986, Error = 0.2506, Inconc. =  0.0508\n",
      "Iterations = 210, Function value =  5.5308, Success =  0.7259, Error = 0.2289, Inconc. =  0.0452\n",
      "Iterations = 240, Function value =  5.4048, Success =  0.7324, Error = 0.2247, Inconc. =  0.0428\n",
      "Iterations = 270, Function value =  5.4220, Success =  0.7313, Error = 0.2247, Inconc. =  0.0439\n"
     ]
    }
   ],
   "source": [
    "from scipy.optimize import minimize\n",
    "\n",
    "alp_err,alp_inc = 20,15\n",
    "P = 0\n",
    "\n",
    "init_guess = np.random.uniform(low = 0, high = 2*np.pi,size = 33)\n",
    "classifier_circ,parameter_obs = classifier_circuit()\n",
    "res_qnn = minimize(compute_loss,init_guess,method = 'COBYLA',args = (X, y,classifier_circ,parameter_obs,alp_err,alp_inc))"
   ]
  },
  {
   "cell_type": "code",
   "execution_count": 32,
   "id": "8dba9443-3428-43a7-899f-9b8a331abd13",
   "metadata": {},
   "outputs": [
    {
     "data": {
      "text/plain": [
       "(0.742, 0.0)"
      ]
     },
     "execution_count": 32,
     "metadata": {},
     "output_type": "execute_result"
    }
   ],
   "source": [
    "test_succ(X_test,y_test,res_qnn.x)"
   ]
  },
  {
   "cell_type": "markdown",
   "id": "c513c994-3db1-4c02-b00d-7dd219a03eca",
   "metadata": {},
   "source": [
    "Increasing $\\alpha_{inc}$ decreases the accuracy and inconclusive rate on training data decreases as expected. The change however is not as dramatic as expected from the paper. This might be due to the optimzation being stuck in a local minima."
   ]
  }
 ],
 "metadata": {
  "kernelspec": {
   "display_name": "qosf-env",
   "language": "python",
   "name": "qosf_env"
  },
  "language_info": {
   "codemirror_mode": {
    "name": "ipython",
    "version": 3
   },
   "file_extension": ".py",
   "mimetype": "text/x-python",
   "name": "python",
   "nbconvert_exporter": "python",
   "pygments_lexer": "ipython3",
   "version": "3.9.16"
  }
 },
 "nbformat": 4,
 "nbformat_minor": 5
}
